{
 "cells": [
  {
   "cell_type": "markdown",
   "metadata": {},
   "source": [
    "# Day 2: Numpy Array\n",
    "## <a href=\"https://www.datacamp.com/community/tutorials/python-numpy-tutorial\">Python Numpy Tutorial Datacamp</a>"
   ]
  },
  {
   "cell_type": "markdown",
   "metadata": {},
   "source": [
    "We are interested in Numpy Array. More benefit compare to normal python list as follow:\n",
    "<ul>\n",
    "<li>being more compact</li>\n",
    "<li>faster access in reading and writing items</li>\n",
    "<li>being more convenient and more efficient</li>\n",
    "</ul>\n",
    "\n",
    "Numpy Cheat sheet: https://www.datacamp.com/community/blog/python-numpy-cheat-sheet\n",
    "\n",
    "### What is Numpy Array?\n",
    "- Numpy = Numeric Python = scientific computing library contains collection of tools and tecnique.\n",
    "\n",
    "- Numpy Array = High-performance multidimensional array object\n",
    "\n",
    "- An array contains: \n",
    "<ul>\n",
    "<li>information about the raw data</li>\n",
    "<li>how to locate an elements</li>\n",
    "<li>how to interpret an element</li>\n",
    "</ul>\n",
    "\n",
    "- Numpy Array attributes: \n",
    "<ul>\n",
    "<li>data: memory address that array located</li>\n",
    "<li>shape: shape of array</li>\n",
    "<li>dtype: type of array</li>\n",
    "<li>strides: number of byte should be skipped memory to go to next element</li>\n",
    "</ul>\n",
    "\n",
    "- 1D\n",
    "- 2D:\n",
    "     row = axis0,\n",
    "     column = axis1\n",
    "- 3D\n",
    "    "
   ]
  },
  {
   "cell_type": "code",
   "execution_count": 2,
   "metadata": {},
   "outputs": [],
   "source": [
    "#Import Numpy as np\n",
    "import numpy as np"
   ]
  },
  {
   "cell_type": "code",
   "execution_count": 3,
   "metadata": {},
   "outputs": [],
   "source": [
    "#create array when know what the data is\n",
    "my_array = np.array([[1,2,3,4], [5,6,7,8]], dtype = np.int64)"
   ]
  },
  {
   "cell_type": "code",
   "execution_count": 4,
   "metadata": {},
   "outputs": [
    {
     "name": "stdout",
     "output_type": "stream",
     "text": [
      "[[1 2 3 4]\n",
      " [5 6 7 8]]\n"
     ]
    }
   ],
   "source": [
    "#print array\n",
    "print(my_array)"
   ]
  },
  {
   "cell_type": "markdown",
   "metadata": {},
   "source": [
    "### Create Array : initial placeholder"
   ]
  },
  {
   "cell_type": "code",
   "execution_count": 6,
   "metadata": {},
   "outputs": [
    {
     "data": {
      "text/plain": [
       "array([[1., 0., 0., 0.],\n",
       "       [0., 1., 0., 0.],\n",
       "       [0., 0., 1., 0.],\n",
       "       [0., 0., 0., 1.]])"
      ]
     },
     "execution_count": 6,
     "metadata": {},
     "output_type": "execute_result"
    }
   ],
   "source": [
    "#create array from another sources\n",
    "#initial placeholders = empty array then fill up afterward\n",
    "\n",
    "# Create an array of ones\n",
    "np.ones((3,4))\n",
    "\n",
    "# Create an array of zeros\n",
    "np.zeros((2,3,4),dtype=np.int16)\n",
    "\n",
    "# Create an array with random values\n",
    "np.random.random((2,2))\n",
    "\n",
    "# Create an empty array\n",
    "np.empty((3,2))\n",
    "\n",
    "# Create a full array\n",
    "np.full((2,2),7)\n",
    "\n",
    "# Create an array of evenly-spaced values\n",
    "np.arange(10,25,5)\n",
    "\n",
    "# Create an array of evenly-spaced values\n",
    "np.linspace(0,2,9)\n",
    "\n",
    "#An identity matrix is a square matrix of which all elements in \n",
    "#the principal diagonal are ones, all other elements are zeros. \n",
    "np.eye(4)\n",
    "\n",
    "np.identity(4)"
   ]
  },
  {
   "cell_type": "markdown",
   "metadata": {},
   "source": [
    "### Load NumPy array from Text\n",
    "\n",
    "- loadtxt() works when each row in the text file has the same number of values\n",
    "- genfromtxt() more flexible and hablde missing value easier; detail in https://docs.scipy.org/doc/numpy/reference/generated/numpy.genfromtxt.html#numpy.genfromtxt\n"
   ]
  },
  {
   "cell_type": "markdown",
   "metadata": {},
   "source": [
    "### Save NumPy Arrays"
   ]
  },
  {
   "cell_type": "code",
   "execution_count": 10,
   "metadata": {},
   "outputs": [],
   "source": [
    "x = np.arange(0.0,5.0,1.0)\n",
    "np.savetxt('test_save_numpy_array.out', x, delimiter=',')"
   ]
  },
  {
   "cell_type": "markdown",
   "metadata": {},
   "source": [
    "### Numpy Attributes"
   ]
  },
  {
   "cell_type": "code",
   "execution_count": 12,
   "metadata": {},
   "outputs": [
    {
     "name": "stdout",
     "output_type": "stream",
     "text": [
      "[[1 2 3 4]\n",
      " [5 6 7 8]]\n",
      "2\n",
      "8\n",
      "  C_CONTIGUOUS : True\n",
      "  F_CONTIGUOUS : False\n",
      "  OWNDATA : True\n",
      "  WRITEABLE : True\n",
      "  ALIGNED : True\n",
      "  WRITEBACKIFCOPY : False\n",
      "  UPDATEIFCOPY : False\n",
      "\n",
      "8\n",
      "64\n"
     ]
    }
   ],
   "source": [
    "print(my_array)\n",
    "\n",
    "# Print the number of `my_array`'s dimensions\n",
    "print(my_array.ndim)\n",
    "\n",
    "# Print the number of `my_array`'s elements\n",
    "print(my_array.size)\n",
    "\n",
    "# Print information about `my_array`'s memory layout\n",
    "print(my_array.flags)\n",
    "\n",
    "# Print the length of one array element in bytes\n",
    "print(my_array.itemsize)\n",
    "\n",
    "# Print the total consumed bytes by `my_array`'s elements\n",
    "print(my_array.nbytes)"
   ]
  }
 ],
 "metadata": {
  "kernelspec": {
   "display_name": "Python 3",
   "language": "python",
   "name": "python3"
  },
  "language_info": {
   "codemirror_mode": {
    "name": "ipython",
    "version": 3
   },
   "file_extension": ".py",
   "mimetype": "text/x-python",
   "name": "python",
   "nbconvert_exporter": "python",
   "pygments_lexer": "ipython3",
   "version": "3.7.4"
  }
 },
 "nbformat": 4,
 "nbformat_minor": 4
}
