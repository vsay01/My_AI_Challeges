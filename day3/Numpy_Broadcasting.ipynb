{
 "cells": [
  {
   "cell_type": "markdown",
   "metadata": {},
   "source": [
    "## NumPy Broadcasting\n",
    "\n",
    "https://www.datacamp.com/community/tutorials/python-numpy-tutorial#broadcasting\n",
    "\n",
    "https://docs.scipy.org/doc/numpy/user/basics.broadcasting.html"
   ]
  },
  {
   "cell_type": "markdown",
   "metadata": {},
   "source": [
    "it’s a mechanism that allows NumPy to work with arrays of different shapes when you’re performing arithmetic operations.\n",
    "\n",
    "Broadcasting can be done if:\n",
    "- the dimensions of your arrays need to be compatible. \n",
    " - when they are equal.\n",
    " - when one of them is 1 \n",
    " - if they are compatible in all dimensions.\n",
    " \n",
    "If these conditions are not met, a ValueError: operands could not be broadcast together exception is thrown"
   ]
  },
  {
   "cell_type": "code",
   "execution_count": 2,
   "metadata": {},
   "outputs": [],
   "source": [
    "import numpy as np"
   ]
  },
  {
   "cell_type": "code",
   "execution_count": 11,
   "metadata": {},
   "outputs": [
    {
     "name": "stdout",
     "output_type": "stream",
     "text": [
      "[[1. 1. 1. 1.]\n",
      " [1. 1. 1. 1.]\n",
      " [1. 1. 1. 1.]]\n"
     ]
    }
   ],
   "source": [
    "# when they are equal\n",
    "x = np.ones((3,4))\n",
    "print(x)"
   ]
  },
  {
   "cell_type": "code",
   "execution_count": 5,
   "metadata": {},
   "outputs": [
    {
     "name": "stdout",
     "output_type": "stream",
     "text": [
      "(3, 4)\n"
     ]
    }
   ],
   "source": [
    "print(x.shape)"
   ]
  },
  {
   "cell_type": "code",
   "execution_count": 7,
   "metadata": {},
   "outputs": [
    {
     "name": "stdout",
     "output_type": "stream",
     "text": [
      "[[0.62365645 0.33143832 0.93929634 0.94470308]\n",
      " [0.42232599 0.31687958 0.70237835 0.62741952]\n",
      " [0.32583359 0.98577658 0.43801011 0.09667383]]\n"
     ]
    }
   ],
   "source": [
    "y = np.random.random((3,4))\n",
    "print(y)"
   ]
  },
  {
   "cell_type": "code",
   "execution_count": 8,
   "metadata": {},
   "outputs": [
    {
     "name": "stdout",
     "output_type": "stream",
     "text": [
      "True\n"
     ]
    }
   ],
   "source": [
    "print(x.shape == y.shape)"
   ]
  },
  {
   "cell_type": "code",
   "execution_count": 10,
   "metadata": {},
   "outputs": [
    {
     "data": {
      "text/plain": [
       "array([[1., 2., 3., 4.],\n",
       "       [1., 2., 3., 4.],\n",
       "       [1., 2., 3., 4.]])"
      ]
     },
     "execution_count": 10,
     "metadata": {},
     "output_type": "execute_result"
    }
   ],
   "source": [
    "x + y"
   ]
  },
  {
   "cell_type": "code",
   "execution_count": 13,
   "metadata": {},
   "outputs": [
    {
     "name": "stdout",
     "output_type": "stream",
     "text": [
      "(3, 4)\n",
      "(4,)\n",
      "[[ 1.  0. -1. -2.]\n",
      " [ 1.  0. -1. -2.]\n",
      " [ 1.  0. -1. -2.]]\n",
      "(3, 4)\n"
     ]
    }
   ],
   "source": [
    "# when one of them is 1 \n",
    "\n",
    "# Initialize `x`\n",
    "x = np.ones((3,4))\n",
    "\n",
    "# Check shape of `x`\n",
    "print(x.shape)\n",
    "\n",
    "# Initialize `y`\n",
    "y = np.arange(4)\n",
    "\n",
    "# Check shape of `y`\n",
    "print(y.shape)\n",
    "\n",
    "# Subtract `x` and `y`\n",
    "z = x - y \n",
    "print(z)\n",
    "print(z.shape)"
   ]
  },
  {
   "cell_type": "code",
   "execution_count": 15,
   "metadata": {},
   "outputs": [
    {
     "name": "stdout",
     "output_type": "stream",
     "text": [
      "(3, 4)\n",
      "(5, 1, 4)\n",
      "(5, 3, 4)\n"
     ]
    }
   ],
   "source": [
    "# if they are compatible in all dimensions.\n",
    "# Initialize `x` and `y`\n",
    "x = np.ones((3,4))\n",
    "print(x.shape)\n",
    "y = np.random.random((5,1,4))\n",
    "print(y.shape)\n",
    "# Add `x` and `y`\n",
    "z = x + y\n",
    "print(z.shape)"
   ]
  },
  {
   "cell_type": "code",
   "execution_count": null,
   "metadata": {},
   "outputs": [],
   "source": []
  }
 ],
 "metadata": {
  "kernelspec": {
   "display_name": "Python 3",
   "language": "python",
   "name": "python3"
  },
  "language_info": {
   "codemirror_mode": {
    "name": "ipython",
    "version": 3
   },
   "file_extension": ".py",
   "mimetype": "text/x-python",
   "name": "python",
   "nbconvert_exporter": "python",
   "pygments_lexer": "ipython3",
   "version": "3.7.4"
  }
 },
 "nbformat": 4,
 "nbformat_minor": 4
}
