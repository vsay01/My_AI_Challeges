{
 "cells": [
  {
   "cell_type": "markdown",
   "metadata": {},
   "source": [
    "## Scikit-Learn And Machine Learning"
   ]
  },
  {
   "cell_type": "markdown",
   "metadata": {},
   "source": [
    "https://www.datacamp.com/community/tutorials/machine-learning-python\n",
    "\n",
    "https://medium.com/@deepanshugaur1998/scikit-learn-part-1-introduction-fa05b19b76f1\n",
    "\n",
    "https://medium.com/@deepanshugaur1998/scikit-learn-beginners-part-2-ca78a51803a8\n",
    "\n",
    "https://medium.com/@deepanshugaur1998/scikit-learn-beginners-part-3-6fb05798acb1\n",
    "\n",
    "Choosing Right Estimator: https://scikit-learn.org/stable/tutorial/machine_learning_map/"
   ]
  },
  {
   "cell_type": "markdown",
   "metadata": {},
   "source": [
    "What is Scikit Learn\n",
    "\n",
    "- scikit learn is a machine learning library for python programming language \n",
    "which offers various important features for machine learning \n",
    "such as classification, regression and clustering algorithms \n",
    "including support vector machines, random forests, gradient boosting, k-means and DBSCAN, and is designed to inter-operate with the python numerical and scientific libraries like NumPy and SciPy."
   ]
  },
  {
   "cell_type": "markdown",
   "metadata": {},
   "source": [
    "### Supervised Algorithms\n",
    "- Classification\n",
    "    - Samples belong to two or more classes, and we want to learn from already labeled data on how to predict the class of unlabeled data.\n",
    "- Regreession\n",
    "    - If the desired output consists of one or more continuous variables, then the task is called regression. \n",
    "    \n",
    "### Unsupervised Algorithms\n",
    "- The goal in such problems may be to discover groups of similar examples within the data, where it is called clustering, or to determine the distribution of data within the input space, known as density estimation, or to project the data from a high-dimensional space down to two or three dimensions for the purpose of visualization.\n",
    "\n",
    "### Model selection and evaluation\n",
    "- a model that would just repeat the labels of the samples that it has just seen would have a perfect score but would fail to predict anything useful on yet-unseen data."
   ]
  },
  {
   "cell_type": "code",
   "execution_count": null,
   "metadata": {},
   "outputs": [],
   "source": []
  }
 ],
 "metadata": {
  "kernelspec": {
   "display_name": "Python 3",
   "language": "python",
   "name": "python3"
  },
  "language_info": {
   "codemirror_mode": {
    "name": "ipython",
    "version": 3
   },
   "file_extension": ".py",
   "mimetype": "text/x-python",
   "name": "python",
   "nbconvert_exporter": "python",
   "pygments_lexer": "ipython3",
   "version": "3.7.4"
  }
 },
 "nbformat": 4,
 "nbformat_minor": 4
}
