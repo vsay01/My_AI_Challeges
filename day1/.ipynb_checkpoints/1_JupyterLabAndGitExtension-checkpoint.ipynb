{
 "cells": [
  {
   "cell_type": "markdown",
   "metadata": {},
   "source": [
    "# Day 1: Install JupyterLab and git extension\n",
    "\n",
    "\n",
    "I learn how to setup JupyterLab, a new generation of Jupyter Notbook. It's very scalable and I also install git extension which will be used for versioning control.\n",
    "\n",
    "I spend time to get myself familiar myself with JuypterLab and git extension.\n",
    "\n",
    "## Install JupyterLab\n",
    "\n",
    "//conda\n",
    "conda install -c conda-forge jupyterlab\n",
    "\n",
    "//pip\n",
    "pip install jupyterlab\n",
    "\n",
    "//pipenv\n",
    "pipenv install jupyterlab\n",
    "pipenv shell\n",
    "\n",
    "## Install git extension\n",
    "jupyter labextension install @jupyterlab/git\n",
    "\n",
    "This article contains cool features of JuptyerLab\n",
    "- https://towardsdatascience.com/jupyter-lab-evolution-of-the-jupyter-notebook-5297cacde6b\n",
    "\n",
    "This ariticle demo how to use JupyterLab git\n",
    "- https://annefou.github.io/jupyter_publish/02-git/index.html\n",
    "\n",
    "This is the Juypter git npm package\n",
    "- https://www.npmjs.com/package/@jupyterlab/git\n"
   ]
  }
 ],
 "metadata": {
  "kernelspec": {
   "display_name": "Python 3",
   "language": "python",
   "name": "python3"
  },
  "language_info": {
   "codemirror_mode": {
    "name": "ipython",
    "version": 3
   },
   "file_extension": ".py",
   "mimetype": "text/x-python",
   "name": "python",
   "nbconvert_exporter": "python",
   "pygments_lexer": "ipython3",
   "version": "3.7.4"
  }
 },
 "nbformat": 4,
 "nbformat_minor": 4
}
