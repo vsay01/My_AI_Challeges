{
 "cells": [
  {
   "cell_type": "markdown",
   "metadata": {},
   "source": [
    "# Understand Panda\n",
    "\n",
    "- Why need Panda when we have NumPy?\n",
    "\n",
    "https://discuss.codecademy.com/t/what-are-some-differences-between-pandas-numpy-and-matplotlib/354475\n",
    "\n",
    "\"The Pandas module is used for working with tabular data. It allows us to work with data in table form, such as in CSV or SQL database formats. We can also create tables of our own, and edit or add columns or rows to tables. Pandas provides us with some powerful objects like DataFrames and Series which are very useful for working with and analyzing data.\n",
    "\n",
    "The Numpy module is mainly used for working with numerical data. It provides us with a powerful object known as an Array. With Arrays, we can perform mathematical operations on multiple values in the Arrays at the same time, and also perform operations between different Arrays, similar to matrix operations.\"\n",
    "\n",
    "\n",
    "-  It offers powerful, expressive and flexible data structures that make data manipulation and analysis easy, among many other things. The DataFrame is one of these structures.\n",
    "\n",
    "    - DataFrames: two-dimensional labeled data structures with columns of potentially different types.\n",
    "    \n",
    "    - It contains three main components\n",
    "        - data\n",
    "        - index\n",
    "        - columns\n",
    "        "
   ]
  },
  {
   "cell_type": "markdown",
   "metadata": {},
   "source": [
    "## Data"
   ]
  },
  {
   "cell_type": "markdown",
   "metadata": {},
   "source": [
    "- Data Frame\n",
    "- Series\n",
    "- ndarray = actual data type\n",
    "- two-dimensional ndarray\n",
    "- dictionaries of one-dimensional ndarray's list, data or series"
   ]
  },
  {
   "cell_type": "markdown",
   "metadata": {},
   "source": [
    "## Index And Column\n",
    "\n",
    "Index = indicates the difference in rows.\n",
    "\n",
    "Column = names indicate the difference in columns."
   ]
  },
  {
   "cell_type": "code",
   "execution_count": 5,
   "metadata": {},
   "outputs": [],
   "source": [
    "import numpy as np\n",
    "import pandas as pd"
   ]
  },
  {
   "cell_type": "markdown",
   "metadata": {},
   "source": [
    "## Create Empty DataFrame"
   ]
  },
  {
   "cell_type": "markdown",
   "metadata": {},
   "source": [
    "DataFrame()\n",
    "\n",
    "- Arguments:\n",
    "    - data\n",
    "    - indices\n",
    "    - columns\n",
    "    \n",
    "- data witin DataFrame can be of different data types"
   ]
  },
  {
   "cell_type": "code",
   "execution_count": 10,
   "metadata": {},
   "outputs": [
    {
     "name": "stdout",
     "output_type": "stream",
     "text": [
      "nan\n",
      "    A\n",
      "0 NaN\n",
      "1 NaN\n",
      "2 NaN\n",
      "3 NaN\n"
     ]
    }
   ],
   "source": [
    "# 1st method\n",
    "\n",
    "print(np.nan)   # np.nan type is float\n",
    "\n",
    "df = pd.DataFrame(np.nan, index=[0,1,2,3], columns=['A'])\n",
    "print(df)"
   ]
  },
  {
   "cell_type": "code",
   "execution_count": 13,
   "metadata": {},
   "outputs": [
    {
     "name": "stdout",
     "output_type": "stream",
     "text": [
      "    A\n",
      "0 NaN\n",
      "1 NaN\n",
      "2 NaN\n",
      "3 NaN\n"
     ]
    }
   ],
   "source": [
    "# 2nd method\n",
    "df = pd.DataFrame(index=range(0,4), columns=['A'], dtype='float')\n",
    "print(df)"
   ]
  },
  {
   "cell_type": "markdown",
   "metadata": {},
   "source": [
    "## Creat non empty DataFrame"
   ]
  },
  {
   "cell_type": "code",
   "execution_count": 17,
   "metadata": {},
   "outputs": [
    {
     "name": "stdout",
     "output_type": "stream",
     "text": [
      "[['' 'Col1' 'Col2']\n",
      " ['Row1' '1' '2']\n",
      " ['Row2' '3' '4']]\n",
      "     Col1 Col2\n",
      "Row1    1    2\n",
      "Row2    3    4\n"
     ]
    }
   ],
   "source": [
    "# make a data frame from a UmPy array\n",
    "\n",
    "data = np.array([['', 'Col1', 'Col2'],\n",
    "                ['Row1', 1, 2],\n",
    "                ['Row2', 3, 4]])\n",
    "print(data)\n",
    "\n",
    "dataFrame = pd.DataFrame(data=data[1:,1:],\n",
    "                         index= data[1:,0],\n",
    "                         columns=data[0,1:])\n",
    "print(dataFrame)"
   ]
  },
  {
   "cell_type": "code",
   "execution_count": 25,
   "metadata": {},
   "outputs": [
    {
     "name": "stdout",
     "output_type": "stream",
     "text": [
      "   0  1  2\n",
      "0  1  2  3\n",
      "1  4  5  6\n"
     ]
    }
   ],
   "source": [
    "# Take a 2D array as input to your DataFrame \n",
    "my_2darray = np.array([[1, 2, 3], [4, 5, 6]])\n",
    "df = pd.DataFrame(my_2darray)\n",
    "print(df)"
   ]
  },
  {
   "cell_type": "code",
   "execution_count": 28,
   "metadata": {},
   "outputs": [
    {
     "name": "stdout",
     "output_type": "stream",
     "text": [
      "   1  2  3\n",
      "0  1  1  2\n",
      "1  3  2  4\n"
     ]
    }
   ],
   "source": [
    "# Take a dictionary as input to your DataFrame\n",
    "my_dict = {1: ['1', '3'], 2: ['1', '2'], 3: ['2', '4']}\n",
    "print(pd.DataFrame(my_dict))"
   ]
  },
  {
   "cell_type": "code",
   "execution_count": 27,
   "metadata": {},
   "outputs": [
    {
     "name": "stdout",
     "output_type": "stream",
     "text": [
      "   A\n",
      "0  4\n",
      "1  5\n",
      "2  6\n",
      "3  7\n"
     ]
    }
   ],
   "source": [
    "# Take a DataFrame as input to your DataFrame \n",
    "my_df = pd.DataFrame(data=[4,5,6,7], index=range(0,4), columns=['A'])\n",
    "print(pd.DataFrame(my_df))"
   ]
  },
  {
   "cell_type": "code",
   "execution_count": 29,
   "metadata": {},
   "outputs": [
    {
     "name": "stdout",
     "output_type": "stream",
     "text": [
      "                         0\n",
      "United Kingdom      London\n",
      "India            New Delhi\n",
      "United States   Washington\n",
      "Belgium           Brussels\n"
     ]
    }
   ],
   "source": [
    "# Take a Series as input to your DataFrame\n",
    "my_series = pd.Series({\"United Kingdom\":\"London\", \"India\":\"New Delhi\", \"United States\":\"Washington\", \"Belgium\":\"Brussels\"})\n",
    "print(pd.DataFrame(my_series))"
   ]
  },
  {
   "cell_type": "markdown",
   "metadata": {},
   "source": [
    "## Method with DataFrame"
   ]
  },
  {
   "cell_type": "code",
   "execution_count": 37,
   "metadata": {},
   "outputs": [
    {
     "name": "stdout",
     "output_type": "stream",
     "text": [
      "(2, 3)\n",
      "2\n",
      "2\n",
      "[0, 1, 2]\n"
     ]
    }
   ],
   "source": [
    "df = pd.DataFrame(np.array([[1,2,3], [4,5,6]]))\n",
    "\n",
    "print(df.shape)\n",
    "print(len(df.index))\n",
    "print(df[0].count())\n",
    "print(list(df.columns.values))"
   ]
  },
  {
   "cell_type": "markdown",
   "metadata": {},
   "source": [
    "- shape give information of width and height\n",
    "- len + index give information of height of df\n",
    "- df[0].count() give info about height but exclude the NaN valueees\n",
    "- list on df provide the list information "
   ]
  }
 ],
 "metadata": {
  "kernelspec": {
   "display_name": "Python 3",
   "language": "python",
   "name": "python3"
  },
  "language_info": {
   "codemirror_mode": {
    "name": "ipython",
    "version": 3
   },
   "file_extension": ".py",
   "mimetype": "text/x-python",
   "name": "python",
   "nbconvert_exporter": "python",
   "pygments_lexer": "ipython3",
   "version": "3.7.4"
  }
 },
 "nbformat": 4,
 "nbformat_minor": 4
}
